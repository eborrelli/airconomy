{
 "metadata": {
  "name": "",
  "signature": "sha256:95ab9f95d54eeea3eb5dc3a80606af62a853e09fe8b5b91ba5e077f46654e101"
 },
 "nbformat": 3,
 "nbformat_minor": 0,
 "worksheets": [
  {
   "cells": [
    {
     "cell_type": "code",
     "collapsed": false,
     "input": [
      "# imports\n",
      "import pandas as pd\n",
      "import numpy as np\n",
      "import bz2\n",
      "import matplotlib.pyplot as plt\n",
      "import re"
     ],
     "language": "python",
     "metadata": {},
     "outputs": [],
     "prompt_number": 2
    },
    {
     "cell_type": "code",
     "collapsed": false,
     "input": [],
     "language": "python",
     "metadata": {},
     "outputs": []
    },
    {
     "cell_type": "code",
     "collapsed": false,
     "input": [
      "# count the number of lines in files"
     ],
     "language": "python",
     "metadata": {},
     "outputs": []
    },
    {
     "cell_type": "code",
     "collapsed": false,
     "input": [
      "bookings_file = bz2.BZ2File(\"/home/elvio/workspace_airconomy/data/bookings.csv.bz2\", 'r')"
     ],
     "language": "python",
     "metadata": {},
     "outputs": [],
     "prompt_number": 2
    },
    {
     "cell_type": "code",
     "collapsed": false,
     "input": [
      "for i, l in enumerate(bookings_file):\n",
      "    pass"
     ],
     "language": "python",
     "metadata": {},
     "outputs": [],
     "prompt_number": 3
    },
    {
     "cell_type": "code",
     "collapsed": false,
     "input": [
      "bookings_file_num_lines = i+1"
     ],
     "language": "python",
     "metadata": {},
     "outputs": [],
     "prompt_number": 4
    },
    {
     "cell_type": "code",
     "collapsed": false,
     "input": [
      "print('Num lines in bookings file: ' + str(bookings_file_num_lines))"
     ],
     "language": "python",
     "metadata": {},
     "outputs": [
      {
       "output_type": "stream",
       "stream": "stdout",
       "text": [
        "Num lines in bookings file: 10000011\n"
       ]
      }
     ],
     "prompt_number": 5
    },
    {
     "cell_type": "code",
     "collapsed": false,
     "input": [],
     "language": "python",
     "metadata": {},
     "outputs": []
    },
    {
     "cell_type": "code",
     "collapsed": false,
     "input": [
      "searches_file = bz2.BZ2File(\"/home/elvio/workspace_airconomy/data/searches.csv.bz2\", 'r')"
     ],
     "language": "python",
     "metadata": {},
     "outputs": [],
     "prompt_number": 5
    },
    {
     "cell_type": "code",
     "collapsed": false,
     "input": [
      "for i, l in enumerate(searches_file):\n",
      "    pass"
     ],
     "language": "python",
     "metadata": {},
     "outputs": [],
     "prompt_number": 7
    },
    {
     "cell_type": "code",
     "collapsed": false,
     "input": [
      "searches_file_num_lines = i+1"
     ],
     "language": "python",
     "metadata": {},
     "outputs": [],
     "prompt_number": 8
    },
    {
     "cell_type": "code",
     "collapsed": false,
     "input": [
      "print('Num lines in searches file: ' + str(searches_file_num_lines))"
     ],
     "language": "python",
     "metadata": {},
     "outputs": [
      {
       "output_type": "stream",
       "stream": "stdout",
       "text": [
        "Num lines in searches file: 20390199\n"
       ]
      }
     ],
     "prompt_number": 9
    },
    {
     "cell_type": "code",
     "collapsed": false,
     "input": [],
     "language": "python",
     "metadata": {},
     "outputs": []
    },
    {
     "cell_type": "code",
     "collapsed": false,
     "input": [],
     "language": "python",
     "metadata": {},
     "outputs": []
    },
    {
     "cell_type": "code",
     "collapsed": false,
     "input": [
      "# top ten arrivals in 2013"
     ],
     "language": "python",
     "metadata": {},
     "outputs": []
    },
    {
     "cell_type": "code",
     "collapsed": false,
     "input": [
      "skipLines = 1 # we skip the header line\n",
      "numChunks = 64\n",
      "bookings_chunkSize = np.ceil((bookings_file_num_lines - skipLines) / (numChunks / 1.0)).astype(int)\n",
      "bookings_chunkSize"
     ],
     "language": "python",
     "metadata": {},
     "outputs": [
      {
       "metadata": {},
       "output_type": "pyout",
       "prompt_number": 10,
       "text": [
        "156251"
       ]
      }
     ],
     "prompt_number": 10
    },
    {
     "cell_type": "code",
     "collapsed": false,
     "input": [
      "# retrieve the headers\n",
      "bookings_file.seek(0)\n",
      "bookings_headers_line = bookings_file.readline()\n",
      "# for getting the headers, we remove the trailing white spaces from the first line of the file and split on ^ .\n",
      "pattern = re.compile('\\s*\\^')\n",
      "bookings_headers = re.split(pattern, bookings_headers_line.strip())"
     ],
     "language": "python",
     "metadata": {},
     "outputs": [],
     "prompt_number": 14
    },
    {
     "cell_type": "code",
     "collapsed": false,
     "input": [
      "# we don't bookings_file.seek(0) so we skip the first line (i.e. the headers)\n",
      "bookings_reader = pd.read_csv(bookings_file, sep='\\s*\\^', skiprows=0, chunksize=bookings_chunkSize, names=bookings_headers)"
     ],
     "language": "python",
     "metadata": {},
     "outputs": [],
     "prompt_number": 15
    },
    {
     "cell_type": "code",
     "collapsed": false,
     "input": [
      "arr_port_pax = {}\n",
      "for chunk in bookings_reader:\n",
      "    tmp = chunk[chunk['year'] == 2013].ix[:,['arr_port','pax']].groupby(['arr_port']).sum()\n",
      "    for key,value in dict(tmp['pax']).iteritems():\n",
      "        try:\n",
      "            arr_port_pax[key] += value\n",
      "        except KeyError:\n",
      "            arr_port_pax[key] = []\n",
      "            arr_port_pax[key].append(value)"
     ],
     "language": "python",
     "metadata": {},
     "outputs": [],
     "prompt_number": 16
    },
    {
     "cell_type": "code",
     "collapsed": false,
     "input": [
      "# the reduce part should be useless\n",
      "arr_port_pax_reduced = []\n",
      "for key,values in arr_port_pax.iteritems():\n",
      "    arr_port_pax_reduced.append((key, sum(values).astype(int)))"
     ],
     "language": "python",
     "metadata": {},
     "outputs": [],
     "prompt_number": 17
    },
    {
     "cell_type": "code",
     "collapsed": false,
     "input": [
      "# comparator for tuples\n",
      "def tuple_sort (a, b):\n",
      "    if a[1] < b[1]:\n",
      "        return 1\n",
      "    elif a[1] > b[1]:\n",
      "        return -1\n",
      "    else:\n",
      "        return cmp(a[0], b[0])"
     ],
     "language": "python",
     "metadata": {},
     "outputs": [],
     "prompt_number": 18
    },
    {
     "cell_type": "code",
     "collapsed": false,
     "input": [
      "arr_port_pax_reduced.sort(tuple_sort)"
     ],
     "language": "python",
     "metadata": {},
     "outputs": [],
     "prompt_number": 19
    },
    {
     "cell_type": "code",
     "collapsed": false,
     "input": [
      "arr_port_pax_reduced[0:10] # top ten arrival airports 2013"
     ],
     "language": "python",
     "metadata": {},
     "outputs": [
      {
       "metadata": {},
       "output_type": "pyout",
       "prompt_number": 20,
       "text": [
        "[('LHR', 88809),\n",
        " ('MCO', 70930),\n",
        " ('LAX', 70530),\n",
        " ('LAS', 69630),\n",
        " ('JFK', 66270),\n",
        " ('CDG', 64490),\n",
        " ('BKK', 59460),\n",
        " ('MIA', 58150),\n",
        " ('SFO', 58000),\n",
        " ('DXB', 55590)]"
       ]
      }
     ],
     "prompt_number": 20
    },
    {
     "cell_type": "code",
     "collapsed": false,
     "input": [],
     "language": "python",
     "metadata": {},
     "outputs": []
    },
    {
     "cell_type": "code",
     "collapsed": false,
     "input": [],
     "language": "python",
     "metadata": {},
     "outputs": []
    },
    {
     "cell_type": "code",
     "collapsed": false,
     "input": [
      "# monthly number of searches for flights arriving at Malaga, Madrid or Barcelona"
     ],
     "language": "python",
     "metadata": {},
     "outputs": []
    },
    {
     "cell_type": "code",
     "collapsed": false,
     "input": [
      "searches_file_num_lines = 20390199\n",
      "skipLines = 1 # we skip the header line\n",
      "numChunks = 64\n",
      "searches_chunkSize = np.ceil((searches_file_num_lines - skipLines) / (numChunks / 1.0)).astype(int)\n",
      "searches_chunkSize"
     ],
     "language": "python",
     "metadata": {},
     "outputs": [
      {
       "metadata": {},
       "output_type": "pyout",
       "prompt_number": 3,
       "text": [
        "318597"
       ]
      }
     ],
     "prompt_number": 3
    },
    {
     "cell_type": "code",
     "collapsed": false,
     "input": [
      "airports = { 'AGP': 'Malaga', 'MAD': 'Madrid', 'BCN': 'Barcelona'}"
     ],
     "language": "python",
     "metadata": {},
     "outputs": [],
     "prompt_number": 4
    },
    {
     "cell_type": "code",
     "collapsed": false,
     "input": [
      "searches_header_line = searches_file.readline()"
     ],
     "language": "python",
     "metadata": {},
     "outputs": [],
     "prompt_number": 6
    },
    {
     "cell_type": "code",
     "collapsed": false,
     "input": [
      "# for getting the headers, we remove the trailing white spaces from the first line of the file and split on ^ .\n",
      "searches_headers = searches_header_line.strip().split('^')"
     ],
     "language": "python",
     "metadata": {},
     "outputs": [],
     "prompt_number": 8
    },
    {
     "cell_type": "code",
     "collapsed": false,
     "input": [
      "# read the file chunk by chunk and filter each chunk before the concat\n",
      "searches_file.seek(0)\n",
      "searches_file.readline() # skip the first line\n",
      "chunk_reader = pd.read_csv(searches_file, sep='\\^', skiprows=0, names=searches_headers, chunksize=searches_chunkSize)\n",
      "# ignore the index during the concatenation\n",
      "df = pd.concat([chunk[chunk['Destination'].isin(airports.keys())].ix[:, ['Date', 'Destination']] for chunk in chunk_reader], ignore_index=True)\n",
      "df"
     ],
     "language": "python",
     "metadata": {},
     "outputs": [
      {
       "metadata": {},
       "output_type": "pyout",
       "prompt_number": 9,
       "text": [
        "<class 'pandas.core.frame.DataFrame'>\n",
        "Int64Index: 676382 entries, 0 to 676381\n",
        "Data columns:\n",
        "Date           676382  non-null values\n",
        "Destination    676382  non-null values\n",
        "dtypes: object(2)"
       ]
      }
     ],
     "prompt_number": 9
    },
    {
     "cell_type": "code",
     "collapsed": false,
     "input": [
      "# define a new column that will contain only the date year and month\n",
      "year_month = []\n",
      "for i in range(len(df['Date'])):\n",
      "    year_month.append(df.get_value(i, 'Date')[:-3])\n",
      "df['year_month'] = year_month"
     ],
     "language": "python",
     "metadata": {},
     "outputs": [],
     "prompt_number": 10
    },
    {
     "cell_type": "code",
     "collapsed": false,
     "input": [
      "df.ix[:, ['Date', 'Destination', 'year_month']][0:10]"
     ],
     "language": "python",
     "metadata": {},
     "outputs": [
      {
       "metadata": {},
       "output_type": "pyout",
       "prompt_number": 11,
       "text": [
        "         Date Destination year_month\n",
        "0  2013-01-01         MAD    2013-01\n",
        "1  2013-01-01         AGP    2013-01\n",
        "2  2013-01-01         BCN    2013-01\n",
        "3  2013-01-01         AGP    2013-01\n",
        "4  2013-01-01         MAD    2013-01\n",
        "5  2013-01-01         BCN    2013-01\n",
        "6  2013-01-01         BCN    2013-01\n",
        "7  2013-01-01         BCN    2013-01\n",
        "8  2013-01-01         BCN    2013-01\n",
        "9  2013-01-01         BCN    2013-01"
       ]
      }
     ],
     "prompt_number": 11
    },
    {
     "cell_type": "code",
     "collapsed": false,
     "input": [
      "# groupby\n",
      "df_groupedby = df.groupby(['Destination', 'year_month']).count()"
     ],
     "language": "python",
     "metadata": {},
     "outputs": [],
     "prompt_number": 12
    },
    {
     "cell_type": "code",
     "collapsed": false,
     "input": [
      "# rename column that stores the num of searches\n",
      "df_num_searches = df_groupedby.ix[:, ['Date']]\n",
      "df_num_searches.columns = ['num_searches']"
     ],
     "language": "python",
     "metadata": {},
     "outputs": [],
     "prompt_number": 13
    },
    {
     "cell_type": "code",
     "collapsed": false,
     "input": [
      "df_num_searches"
     ],
     "language": "python",
     "metadata": {},
     "outputs": [
      {
       "metadata": {},
       "output_type": "pyout",
       "prompt_number": 14,
       "text": [
        "                        num_searches\n",
        "Destination year_month              \n",
        "AGP         2013-01             9633\n",
        "            2013-02             8379\n",
        "            2013-03            10659\n",
        "            2013-04             8265\n",
        "            2013-05            10830\n",
        "            2013-06             7923\n",
        "            2013-07             8892\n",
        "            2013-08             7866\n",
        "            2013-09             8151\n",
        "            2013-10             6499\n",
        "            2013-11             6384\n",
        "            2013-12             3696\n",
        "BCN         2013-01            29469\n",
        "            2013-02            28329\n",
        "            2013-03            30552\n",
        "            2013-04            31236\n",
        "            2013-05            28728\n",
        "            2013-06            26505\n",
        "            2013-07            29241\n",
        "            2013-08            27075\n",
        "            2013-09            23427\n",
        "            2013-10            20276\n",
        "            2013-11            19824\n",
        "            2013-12            15400\n",
        "MAD         2013-01            24258\n",
        "            2013-02            22800\n",
        "            2013-03            24681\n",
        "            2013-04            25251\n",
        "            2013-05            26334\n",
        "            2013-06            22800\n",
        "            2013-07            22971\n",
        "            2013-08            21831\n",
        "            2013-09            21147\n",
        "            2013-10            22294\n",
        "            2013-11            20272\n",
        "            2013-12            14504"
       ]
      }
     ],
     "prompt_number": 14
    },
    {
     "cell_type": "code",
     "collapsed": false,
     "input": [
      "# build the x axis\n",
      "x = range(len(df_num_searches.ix['AGP'].index.values))\n",
      "x"
     ],
     "language": "python",
     "metadata": {},
     "outputs": [
      {
       "metadata": {},
       "output_type": "pyout",
       "prompt_number": 15,
       "text": [
        "[0, 1, 2, 3, 4, 5, 6, 7, 8, 9, 10, 11]"
       ]
      }
     ],
     "prompt_number": 15
    },
    {
     "cell_type": "code",
     "collapsed": false,
     "input": [
      "# define the ticks for the x axis\n",
      "xticks = df_num_searches.ix['AGP'].index.tolist()\n",
      "xticks"
     ],
     "language": "python",
     "metadata": {},
     "outputs": [
      {
       "metadata": {},
       "output_type": "pyout",
       "prompt_number": 16,
       "text": [
        "['2013-01',\n",
        " '2013-02',\n",
        " '2013-03',\n",
        " '2013-04',\n",
        " '2013-05',\n",
        " '2013-06',\n",
        " '2013-07',\n",
        " '2013-08',\n",
        " '2013-09',\n",
        " '2013-10',\n",
        " '2013-11',\n",
        " '2013-12']"
       ]
      }
     ],
     "prompt_number": 16
    },
    {
     "cell_type": "code",
     "collapsed": false,
     "input": [
      "# values of the index of level 0\n",
      "df_num_searches.index.levels[0]"
     ],
     "language": "python",
     "metadata": {},
     "outputs": [
      {
       "metadata": {},
       "output_type": "pyout",
       "prompt_number": 17,
       "text": [
        "Index([AGP, BCN, MAD], dtype=object)"
       ]
      }
     ],
     "prompt_number": 17
    },
    {
     "cell_type": "code",
     "collapsed": false,
     "input": [
      "# loop on the index of level 0 (i.e. the airport) and plot\n",
      "# at the same time we build the legend\n",
      "labels = []\n",
      "ax = df_num_searches.ix[df_num_searches.index.levels[0][0]].plot(kind='line', use_index=False)\n",
      "labels.append(airports[df_num_searches.index.levels[0][0]])\n",
      "for label in df_num_searches.index.levels[0][1:]:\n",
      "    df_num_searches.ix[label].plot(kind='line', use_index=False, ax=ax)\n",
      "    labels.append(airports[label])\n",
      "    plt.xticks(x, xticks)\n",
      "plt.legend(labels, title='Destination airports')\n",
      "plt.xlabel('months')\n",
      "plt.ylabel('num searches')\n",
      "plt.title('Num searches per month')\n",
      "plt.show()\n",
      "plt.clf()\n",
      "plt.cla()\n",
      "plt.close()"
     ],
     "language": "python",
     "metadata": {},
     "outputs": [],
     "prompt_number": 19
    },
    {
     "cell_type": "code",
     "collapsed": false,
     "input": [
      "searches_file.close()"
     ],
     "language": "python",
     "metadata": {},
     "outputs": [],
     "prompt_number": 20
    },
    {
     "cell_type": "code",
     "collapsed": false,
     "input": [],
     "language": "python",
     "metadata": {},
     "outputs": []
    }
   ],
   "metadata": {}
  }
 ]
}