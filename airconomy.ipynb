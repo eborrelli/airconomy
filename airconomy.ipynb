{
 "metadata": {
  "name": "",
  "signature": "sha256:07d800c2d3de6beacaeb04cccd2a24ca6b69a533de9d0f4312be13867b7ecad3"
 },
 "nbformat": 3,
 "nbformat_minor": 0,
 "worksheets": [
  {
   "cells": [
    {
     "cell_type": "code",
     "collapsed": false,
     "input": [
      "import bz2"
     ],
     "language": "python",
     "metadata": {},
     "outputs": [],
     "prompt_number": 1
    },
    {
     "cell_type": "code",
     "collapsed": false,
     "input": [
      "bookings_file = bz2.BZ2File(\"/home/elvio/workspace_airconomy/data/bookings.csv.bz2\", 'r')"
     ],
     "language": "python",
     "metadata": {},
     "outputs": [],
     "prompt_number": 2
    },
    {
     "cell_type": "code",
     "collapsed": false,
     "input": [
      "for i, l in enumerate(bookings_file):\n",
      "    pass"
     ],
     "language": "python",
     "metadata": {},
     "outputs": [],
     "prompt_number": 3
    },
    {
     "cell_type": "code",
     "collapsed": false,
     "input": [
      "bookings_file_num_lines = i+1"
     ],
     "language": "python",
     "metadata": {},
     "outputs": [],
     "prompt_number": 4
    },
    {
     "cell_type": "code",
     "collapsed": false,
     "input": [
      "print('Num lines of bookings file: ' + str(bookings_file_num_lines))"
     ],
     "language": "python",
     "metadata": {},
     "outputs": [
      {
       "output_type": "stream",
       "stream": "stdout",
       "text": [
        "Num lines of bookings file: 10000011\n"
       ]
      }
     ],
     "prompt_number": 5
    },
    {
     "cell_type": "code",
     "collapsed": false,
     "input": [
      "searches_file = bz2.BZ2File(\"/home/elvio/workspace_airconomy/data/searches.csv.bz2\", 'r')"
     ],
     "language": "python",
     "metadata": {},
     "outputs": [],
     "prompt_number": 6
    },
    {
     "cell_type": "code",
     "collapsed": false,
     "input": [
      "for i, l in enumerate(searches_file):\n",
      "    pass"
     ],
     "language": "python",
     "metadata": {},
     "outputs": [],
     "prompt_number": 7
    },
    {
     "cell_type": "code",
     "collapsed": false,
     "input": [
      "searches_file_num_lines = i+1"
     ],
     "language": "python",
     "metadata": {},
     "outputs": [],
     "prompt_number": 8
    },
    {
     "cell_type": "code",
     "collapsed": false,
     "input": [
      "print('Num lines of searches file: ' + str(searches_file_num_lines))"
     ],
     "language": "python",
     "metadata": {},
     "outputs": [
      {
       "output_type": "stream",
       "stream": "stdout",
       "text": [
        "Num lines of searches file: 20390199\n"
       ]
      }
     ],
     "prompt_number": 9
    },
    {
     "cell_type": "code",
     "collapsed": false,
     "input": [
      "import numpy as np"
     ],
     "language": "python",
     "metadata": {},
     "outputs": [],
     "prompt_number": 1
    },
    {
     "cell_type": "code",
     "collapsed": false,
     "input": [
      "import pandas as pd"
     ],
     "language": "python",
     "metadata": {},
     "outputs": [],
     "prompt_number": 2
    },
    {
     "cell_type": "code",
     "collapsed": false,
     "input": [
      "# top ten arrivals in the world in 2013\n",
      "numLines = 10000011\n",
      "skipLines = 1 # we skip the header line\n",
      "numChunks = 64\n",
      "chunkSize = np.ceil((numLines - skipLines) / (numChunks / 1.0)).astype(int)\n",
      "chunkSize"
     ],
     "language": "python",
     "metadata": {},
     "outputs": [
      {
       "metadata": {},
       "output_type": "pyout",
       "prompt_number": 4,
       "text": [
        "156251"
       ]
      }
     ],
     "prompt_number": 4
    },
    {
     "cell_type": "code",
     "collapsed": false,
     "input": [
      "reader = pd.read_csv(bookings_file, sep='\\s*\\^', skiprows=skipLines, chunksize=chunkSize, header=None)"
     ],
     "language": "python",
     "metadata": {},
     "outputs": []
    },
    {
     "cell_type": "code",
     "collapsed": false,
     "input": [
      "chunk_results = {}\n",
      "for chunk in reader:\n",
      "    try:\n",
      "        tmp = chunk.ix[:,[12,34]].groupby(['X.13']).sum()\n",
      "        for key,value in dict(tmp['X.35']).iteritems():\n",
      "            try:\n",
      "                chunk_results[key] += value\n",
      "            except KeyError:\n",
      "                chunk_results[key] = []\n",
      "                chunk_results[key].append(value)\n",
      "    except Exception as e:\n",
      "        pass"
     ],
     "language": "python",
     "metadata": {},
     "outputs": []
    },
    {
     "cell_type": "code",
     "collapsed": false,
     "input": [
      "reduced_results = []\n",
      "for key,values in chunk_results.iteritems():\n",
      "    reduced_results.append((key, sum(values).astype(int)))"
     ],
     "language": "python",
     "metadata": {},
     "outputs": []
    },
    {
     "cell_type": "code",
     "collapsed": false,
     "input": [
      "def tuple_sort (a, b):\n",
      "    if a[1] < b[1]:\n",
      "        return 1\n",
      "    elif a[1] > b[1]:\n",
      "        return -1\n",
      "    else:\n",
      "        return cmp(a[0], b[0])"
     ],
     "language": "python",
     "metadata": {},
     "outputs": []
    },
    {
     "cell_type": "code",
     "collapsed": false,
     "input": [
      "reduced_results.sort(tuple_sort)"
     ],
     "language": "python",
     "metadata": {},
     "outputs": []
    },
    {
     "cell_type": "code",
     "collapsed": false,
     "input": [
      "reduced_results[0:10]"
     ],
     "language": "python",
     "metadata": {},
     "outputs": []
    }
   ],
   "metadata": {}
  }
 ]
}