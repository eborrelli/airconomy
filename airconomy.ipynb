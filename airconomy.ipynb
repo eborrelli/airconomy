{
 "metadata": {
  "name": "",
  "signature": "sha256:7c2394406ebddc950e7c69cb480aaa29213d1f814088a4d212132e55b3ce41a1"
 },
 "nbformat": 3,
 "nbformat_minor": 0,
 "worksheets": [
  {
   "cells": [
    {
     "cell_type": "code",
     "collapsed": false,
     "input": [
      "# imports\n",
      "import pandas as pd\n",
      "import numpy as np\n",
      "import bz2\n",
      "import matplotlib.pyplot as plt\n",
      "import re"
     ],
     "language": "python",
     "metadata": {},
     "outputs": [],
     "prompt_number": 13
    },
    {
     "cell_type": "code",
     "collapsed": false,
     "input": [],
     "language": "python",
     "metadata": {},
     "outputs": []
    },
    {
     "cell_type": "code",
     "collapsed": false,
     "input": [
      "# count the number of lines in files"
     ],
     "language": "python",
     "metadata": {},
     "outputs": []
    },
    {
     "cell_type": "code",
     "collapsed": false,
     "input": [
      "bookings_file = bz2.BZ2File(\"/home/elvio/workspace_airconomy/data/bookings.csv.bz2\", 'r')"
     ],
     "language": "python",
     "metadata": {},
     "outputs": [],
     "prompt_number": 2
    },
    {
     "cell_type": "code",
     "collapsed": false,
     "input": [
      "for i, l in enumerate(bookings_file):\n",
      "    pass"
     ],
     "language": "python",
     "metadata": {},
     "outputs": [],
     "prompt_number": 3
    },
    {
     "cell_type": "code",
     "collapsed": false,
     "input": [
      "bookings_file_num_lines = i+1"
     ],
     "language": "python",
     "metadata": {},
     "outputs": [],
     "prompt_number": 4
    },
    {
     "cell_type": "code",
     "collapsed": false,
     "input": [
      "print('Num lines in bookings file: ' + str(bookings_file_num_lines))"
     ],
     "language": "python",
     "metadata": {},
     "outputs": [
      {
       "output_type": "stream",
       "stream": "stdout",
       "text": [
        "Num lines in bookings file: 10000011\n"
       ]
      }
     ],
     "prompt_number": 5
    },
    {
     "cell_type": "code",
     "collapsed": false,
     "input": [],
     "language": "python",
     "metadata": {},
     "outputs": []
    },
    {
     "cell_type": "code",
     "collapsed": false,
     "input": [
      "searches_file = bz2.BZ2File(\"/home/elvio/workspace_airconomy/data/searches.csv.bz2\", 'r')"
     ],
     "language": "python",
     "metadata": {},
     "outputs": [],
     "prompt_number": 6
    },
    {
     "cell_type": "code",
     "collapsed": false,
     "input": [
      "for i, l in enumerate(searches_file):\n",
      "    pass"
     ],
     "language": "python",
     "metadata": {},
     "outputs": [],
     "prompt_number": 7
    },
    {
     "cell_type": "code",
     "collapsed": false,
     "input": [
      "searches_file_num_lines = i+1"
     ],
     "language": "python",
     "metadata": {},
     "outputs": [],
     "prompt_number": 8
    },
    {
     "cell_type": "code",
     "collapsed": false,
     "input": [
      "print('Num lines in searches file: ' + str(searches_file_num_lines))"
     ],
     "language": "python",
     "metadata": {},
     "outputs": [
      {
       "output_type": "stream",
       "stream": "stdout",
       "text": [
        "Num lines in searches file: 20390199\n"
       ]
      }
     ],
     "prompt_number": 9
    },
    {
     "cell_type": "code",
     "collapsed": false,
     "input": [],
     "language": "python",
     "metadata": {},
     "outputs": []
    },
    {
     "cell_type": "code",
     "collapsed": false,
     "input": [],
     "language": "python",
     "metadata": {},
     "outputs": []
    },
    {
     "cell_type": "code",
     "collapsed": false,
     "input": [
      "# top ten arrivals in 2013"
     ],
     "language": "python",
     "metadata": {},
     "outputs": []
    },
    {
     "cell_type": "code",
     "collapsed": false,
     "input": [
      "skipLines = 1 # we skip the header line\n",
      "numChunks = 64\n",
      "bookings_chunkSize = np.ceil((bookings_file_num_lines - skipLines) / (numChunks / 1.0)).astype(int)\n",
      "bookings_chunkSize"
     ],
     "language": "python",
     "metadata": {},
     "outputs": [
      {
       "metadata": {},
       "output_type": "pyout",
       "prompt_number": 10,
       "text": [
        "156251"
       ]
      }
     ],
     "prompt_number": 10
    },
    {
     "cell_type": "code",
     "collapsed": false,
     "input": [
      "# retrieve the headers\n",
      "bookings_file.seek(0)\n",
      "bookings_headers_line = bookings_file.readline()\n",
      "# for getting the headers, we remove the trailing white spaces from the first line of the file and split on ^ .\n",
      "pattern = re.compile('\\s*\\^')\n",
      "bookings_headers = re.split(pattern, bookings_headers_line.strip())"
     ],
     "language": "python",
     "metadata": {},
     "outputs": [],
     "prompt_number": 14
    },
    {
     "cell_type": "code",
     "collapsed": false,
     "input": [
      "# we don't bookings_file.seek(0) so we skip the first line (i.e. the headers)\n",
      "bookings_reader = pd.read_csv(bookings_file, sep='\\s*\\^', skiprows=0, chunksize=bookings_chunkSize, names=bookings_headers)"
     ],
     "language": "python",
     "metadata": {},
     "outputs": [],
     "prompt_number": 15
    },
    {
     "cell_type": "code",
     "collapsed": false,
     "input": [
      "arr_port_pax = {}\n",
      "for chunk in bookings_reader:\n",
      "    tmp = chunk[chunk['year'] == 2013].ix[:,['arr_port','pax']].groupby(['arr_port']).sum()\n",
      "    for key,value in dict(tmp['pax']).iteritems():\n",
      "        try:\n",
      "            arr_port_pax[key] += value\n",
      "        except KeyError:\n",
      "            arr_port_pax[key] = []\n",
      "            arr_port_pax[key].append(value)"
     ],
     "language": "python",
     "metadata": {},
     "outputs": [],
     "prompt_number": 16
    },
    {
     "cell_type": "code",
     "collapsed": false,
     "input": [
      "# the reduce part should be useless\n",
      "arr_port_pax_reduced = []\n",
      "for key,values in arr_port_pax.iteritems():\n",
      "    arr_port_pax_reduced.append((key, sum(values).astype(int)))"
     ],
     "language": "python",
     "metadata": {},
     "outputs": [],
     "prompt_number": 17
    },
    {
     "cell_type": "code",
     "collapsed": false,
     "input": [
      "# comparator for tuples\n",
      "def tuple_sort (a, b):\n",
      "    if a[1] < b[1]:\n",
      "        return 1\n",
      "    elif a[1] > b[1]:\n",
      "        return -1\n",
      "    else:\n",
      "        return cmp(a[0], b[0])"
     ],
     "language": "python",
     "metadata": {},
     "outputs": [],
     "prompt_number": 18
    },
    {
     "cell_type": "code",
     "collapsed": false,
     "input": [
      "arr_port_pax_reduced.sort(tuple_sort)"
     ],
     "language": "python",
     "metadata": {},
     "outputs": [],
     "prompt_number": 19
    },
    {
     "cell_type": "code",
     "collapsed": false,
     "input": [
      "arr_port_pax_reduced[0:10] # top ten arrival airports 2013"
     ],
     "language": "python",
     "metadata": {},
     "outputs": [
      {
       "metadata": {},
       "output_type": "pyout",
       "prompt_number": 20,
       "text": [
        "[('LHR', 88809),\n",
        " ('MCO', 70930),\n",
        " ('LAX', 70530),\n",
        " ('LAS', 69630),\n",
        " ('JFK', 66270),\n",
        " ('CDG', 64490),\n",
        " ('BKK', 59460),\n",
        " ('MIA', 58150),\n",
        " ('SFO', 58000),\n",
        " ('DXB', 55590)]"
       ]
      }
     ],
     "prompt_number": 20
    },
    {
     "cell_type": "code",
     "collapsed": false,
     "input": [],
     "language": "python",
     "metadata": {},
     "outputs": []
    }
   ],
   "metadata": {}
  }
 ]
}